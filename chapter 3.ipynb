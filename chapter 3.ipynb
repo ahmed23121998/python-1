{
 "cells": [
  {
   "cell_type": "code",
   "execution_count": 8,
   "id": "84e23aab",
   "metadata": {},
   "outputs": [],
   "source": [
    "import networkx as nx"
   ]
  },
  {
   "cell_type": "code",
   "execution_count": 9,
   "id": "0f5d7df6",
   "metadata": {},
   "outputs": [
    {
     "data": {
      "text/plain": [
       "5"
      ]
     },
     "execution_count": 9,
     "metadata": {},
     "output_type": "execute_result"
    }
   ],
   "source": [
    "max([1,2,3,4,5])"
   ]
  },
  {
   "cell_type": "code",
   "execution_count": 10,
   "id": "11f42fe9",
   "metadata": {},
   "outputs": [
    {
     "data": {
      "text/plain": [
       "'grape'"
      ]
     },
     "execution_count": 10,
     "metadata": {},
     "output_type": "execute_result"
    }
   ],
   "source": [
    "max(['apple', 'grape', 'carrot'])"
   ]
  },
  {
   "cell_type": "code",
   "execution_count": 5,
   "id": "ba54ed1f",
   "metadata": {},
   "outputs": [
    {
     "data": {
      "text/plain": [
       "'carrot'"
      ]
     },
     "execution_count": 5,
     "metadata": {},
     "output_type": "execute_result"
    }
   ],
   "source": [
    "max(['apple', 'grape', 'carrot'], key=len)"
   ]
  },
  {
   "cell_type": "code",
   "execution_count": 12,
   "id": "3ca1a5f1",
   "metadata": {},
   "outputs": [
    {
     "data": {
      "image/png": "[encoded data removed]",
      "text/plain": [
       "<Figure size 432x288 with 1 Axes>"
      ]
     },
     "metadata": {},
     "output_type": "display_data"
    }
   ],
   "source": [
    "G=nx.Graph()\n",
    "G.add_nodes_from(['a','b','c','d'])\n",
    "G.add_edges_from([('a','b'),('b','c'),('a','c'),('a','d')])\n",
    "nx.draw(G,with_labels=True,node_color='yellow',node_size=1600,font_color='red',font_size=16)"
   ]
  },
  {
   "cell_type": "code",
   "execution_count": 13,
   "id": "311cc19f",
   "metadata": {},
   "outputs": [
    {
     "data": {
      "text/plain": [
       "'a'"
      ]
     },
     "execution_count": 13,
     "metadata": {},
     "output_type": "execute_result"
    }
   ],
   "source": [
    "highest_degree_node = max(G.nodes, key=G.degree)\n",
    "highest_degree_node"
   ]
  },
  {
   "cell_type": "code",
   "execution_count": 14,
   "id": "7dff4037",
   "metadata": {},
   "outputs": [
    {
     "data": {
      "text/plain": [
       "3"
      ]
     },
     "execution_count": 14,
     "metadata": {},
     "output_type": "execute_result"
    }
   ],
   "source": [
    "G.degree(highest_degree_node)"
   ]
  },
  {
   "cell_type": "code",
   "execution_count": 15,
   "id": "45308f0e",
   "metadata": {},
   "outputs": [
    {
     "data": {
      "text/plain": [
       "'a'"
      ]
     },
     "execution_count": 15,
     "metadata": {},
     "output_type": "execute_result"
    }
   ],
   "source": [
    "betweenness = nx.centrality.betweenness_centrality(G)\n",
    "highest_betweenness_node = max(G.nodes, key=betweenness.get)\n",
    "highest_betweenness_node"
   ]
  },
  {
   "cell_type": "code",
   "execution_count": 16,
   "id": "4017802c",
   "metadata": {},
   "outputs": [
    {
     "data": {
      "text/plain": [
       "0.6666666666666666"
      ]
     },
     "execution_count": 16,
     "metadata": {},
     "output_type": "execute_result"
    }
   ],
   "source": [
    "betweenness[highest_betweenness_node]"
   ]
  },
  {
   "cell_type": "code",
   "execution_count": 18,
   "id": "56ead452",
   "metadata": {},
   "outputs": [
    {
     "name": "stdout",
     "output_type": "stream",
     "text": [
      "Mean degree: 2\n",
      "Median degree: 2.0\n"
     ]
    }
   ],
   "source": [
    "import statistics\n",
    "\n",
    "print('Mean degree:', statistics.mean(degree_sequence))\n",
    "print('Median degree:', statistics.median(degree_sequence))"
   ]
  },
  {
   "cell_type": "code",
   "execution_count": 19,
   "id": "c08af28d",
   "metadata": {},
   "outputs": [
    {
     "name": "stdout",
     "output_type": "stream",
     "text": [
      "Mean betweenness: 0.16666666666666666\n",
      "Median betweenness: 0.0\n"
     ]
    }
   ],
   "source": [
    "betweenness = nx.centrality.betweenness_centrality(G)\n",
    "betweenness_sequence = list(betweenness.values())\n",
    "\n",
    "print('Mean betweenness:', statistics.mean(betweenness_sequence))\n",
    "print('Median betweenness:', statistics.median(betweenness_sequence))"
   ]
  },
  {
   "cell_type": "code",
   "execution_count": 20,
   "id": "65cdd6e4",
   "metadata": {},
   "outputs": [
    {
     "data": {
      "text/plain": [
       "Counter({3: 1, 2: 2, 1: 1})"
      ]
     },
     "execution_count": 20,
     "metadata": {},
     "output_type": "execute_result"
    }
   ],
   "source": [
    "from collections import Counter\n",
    "\n",
    "degree_counts = Counter(degree_sequence)\n",
    "degree_counts"
   ]
  },
  {
   "cell_type": "code",
   "execution_count": 21,
   "id": "79dbbfe6",
   "metadata": {},
   "outputs": [],
   "source": [
    "min_degree, max_degree = min(degree_counts.keys()), max(degree_counts.keys())\n",
    "\n",
    "plot_x = list(range(min_degree, max_degree + 1))"
   ]
  },
  {
   "cell_type": "code",
   "execution_count": 22,
   "id": "72c4c77c",
   "metadata": {},
   "outputs": [],
   "source": [
    "plot_y = [degree_counts.get(x, 0) for x in plot_x]"
   ]
  },
  {
   "cell_type": "code",
   "execution_count": 23,
   "id": "ef5b109e",
   "metadata": {},
   "outputs": [
    {
     "data": {
      "text/plain": [
       "<BarContainer object of 3 artists>"
      ]
     },
     "execution_count": 23,
     "metadata": {},
     "output_type": "execute_result"
    },
    {
     "data": {
      "image/png": "[encoded data removed]",
      "text/plain": [
       "<Figure size 432x288 with 1 Axes>"
      ]
     },
     "metadata": {
      "needs_background": "light"
     },
     "output_type": "display_data"
    }
   ],
   "source": [
    "import matplotlib.pyplot as plt\n",
    "\n",
    "plt.bar(plot_x, plot_y)"
   ]
  },
  {
   "cell_type": "code",
   "execution_count": 24,
   "id": "6aa715f1",
   "metadata": {},
   "outputs": [
    {
     "data": {
      "image/png": "[encoded data removed]",
      "text/plain": [
       "<Figure size 432x288 with 1 Axes>"
      ]
     },
     "metadata": {
      "needs_background": "light"
     },
     "output_type": "display_data"
    }
   ],
   "source": [
    "counts, bins, patches = plt.hist(betweenness_sequence, bins=10)"
   ]
  },
  {
   "cell_type": "code",
   "execution_count": 25,
   "id": "e85a4bca",
   "metadata": {},
   "outputs": [
    {
     "data": {
      "text/plain": [
       "array([0.        , 0.06666667, 0.13333333, 0.2       , 0.26666667,\n",
       "       0.33333333, 0.4       , 0.46666667, 0.53333333, 0.6       ,\n",
       "       0.66666667])"
      ]
     },
     "execution_count": 25,
     "metadata": {},
     "output_type": "execute_result"
    }
   ],
   "source": [
    "bins"
   ]
  },
  {
   "cell_type": "code",
   "execution_count": 26,
   "id": "d781740a",
   "metadata": {},
   "outputs": [
    {
     "data": {
      "text/plain": [
       "array([3., 0., 0., 0., 0., 0., 0., 0., 0., 1.])"
      ]
     },
     "execution_count": 26,
     "metadata": {},
     "output_type": "execute_result"
    }
   ],
   "source": [
    "counts"
   ]
  },
  {
   "cell_type": "code",
   "execution_count": 27,
   "id": "8ec3990f",
   "metadata": {},
   "outputs": [
    {
     "data": {
      "text/plain": [
       "{'a', 'b', 'c', 'd'}"
      ]
     },
     "execution_count": 27,
     "metadata": {},
     "output_type": "execute_result"
    }
   ],
   "source": [
    "core = next(nx.connected_components(G))\n",
    "core"
   ]
  },
  {
   "cell_type": "code",
   "execution_count": 28,
   "id": "14f5e290",
   "metadata": {},
   "outputs": [
    {
     "data": {
      "text/plain": [
       "4"
      ]
     },
     "execution_count": 28,
     "metadata": {},
     "output_type": "execute_result"
    }
   ],
   "source": [
    "len(core)"
   ]
  },
  {
   "cell_type": "code",
   "execution_count": 29,
   "id": "a99883c6",
   "metadata": {},
   "outputs": [],
   "source": [
    "components = list(nx.connected_components(G))"
   ]
  },
  {
   "cell_type": "code",
   "execution_count": 30,
   "id": "5a836ce8",
   "metadata": {},
   "outputs": [
    {
     "data": {
      "text/plain": [
       "1"
      ]
     },
     "execution_count": 30,
     "metadata": {},
     "output_type": "execute_result"
    }
   ],
   "source": [
    "len(components)"
   ]
  },
  {
   "cell_type": "code",
   "execution_count": 31,
   "id": "3c98694c",
   "metadata": {},
   "outputs": [],
   "source": [
    "C = G.copy()"
   ]
  },
  {
   "cell_type": "code",
   "execution_count": 32,
   "id": "b984903b",
   "metadata": {},
   "outputs": [],
   "source": [
    "import random\n",
    "\n",
    "nodes_to_remove = random.sample(list(C.nodes), 2)\n",
    "C.remove_nodes_from(nodes_to_remove)"
   ]
  },
  {
   "cell_type": "code",
   "execution_count": 38,
   "id": "7453b92a",
   "metadata": {},
   "outputs": [
    {
     "data": {
      "text/plain": [
       "1"
      ]
     },
     "execution_count": 38,
     "metadata": {},
     "output_type": "execute_result"
    }
   ],
   "source": [
    "number_of_steps = 3\n",
    "M = G.number_of_nodes() // number_of_steps\n",
    "M"
   ]
  },
  {
   "cell_type": "code",
   "execution_count": 39,
   "id": "6a4e6ade",
   "metadata": {},
   "outputs": [],
   "source": [
    "num_nodes_removed = range(0, G.number_of_nodes(), M)"
   ]
  },
  {
   "cell_type": "code",
   "execution_count": 40,
   "id": "42647343",
   "metadata": {},
   "outputs": [],
   "source": [
    "N = G.number_of_nodes()\n",
    "C = G.copy()\n",
    "random_attack_core_proportions = []\n",
    "for nodes_removed in num_nodes_removed:\n",
    "    # Measure the relative size of the network core\n",
    "    core = next(nx.connected_components(C))\n",
    "    core_proportion = len(core) / N\n",
    "    random_attack_core_proportions.append(core_proportion)\n",
    "    \n",
    "    # If there are more than M nodes, select M nodes at random and remove them\n",
    "    if C.number_of_nodes() > M:\n",
    "        nodes_to_remove = random.sample(list(C.nodes), M)\n",
    "        C.remove_nodes_from(nodes_to_remove)"
   ]
  },
  {
   "cell_type": "code",
   "execution_count": 41,
   "id": "5637f059",
   "metadata": {},
   "outputs": [
    {
     "data": {
      "text/plain": [
       "[<matplotlib.lines.Line2D at 0x20251917130>]"
      ]
     },
     "execution_count": 41,
     "metadata": {},
     "output_type": "execute_result"
    },
    {
     "data": {
      "image/png": "[encoded data removed]",
      "text/plain": [
       "<Figure size 432x288 with 1 Axes>"
      ]
     },
     "metadata": {
      "needs_background": "light"
     },
     "output_type": "display_data"
    }
   ],
   "source": [
    "plt.title('Random failure')\n",
    "plt.xlabel('Number of nodes removed')\n",
    "plt.ylabel('Proportion of nodes in core')\n",
    "plt.plot(num_nodes_removed, random_attack_core_proportions, marker='o')"
   ]
  },
  {
   "cell_type": "code",
   "execution_count": 42,
   "id": "1fcb6b4d",
   "metadata": {},
   "outputs": [
    {
     "data": {
      "text/plain": [
       "['a']"
      ]
     },
     "execution_count": 42,
     "metadata": {},
     "output_type": "execute_result"
    }
   ],
   "source": [
    "nodes_sorted_by_degree = sorted(G.nodes, key=G.degree, reverse=True)\n",
    "top_degree_nodes = nodes_sorted_by_degree[:M]\n",
    "top_degree_nodes"
   ]
  }
 ],
 "metadata": {
  "kernelspec": {
   "display_name": "Python 3 (ipykernel)",
   "language": "python",
   "name": "python3"
  },
  "language_info": {
   "codemirror_mode": {
    "name": "ipython",
    "version": 3
   },
   "file_extension": ".py",
   "mimetype": "text/x-python",
   "name": "python",
   "nbconvert_exporter": "python",
   "pygments_lexer": "ipython3",
   "version": "3.9.7"
  }
 },
 "nbformat": 4,
 "nbformat_minor": 5
}
